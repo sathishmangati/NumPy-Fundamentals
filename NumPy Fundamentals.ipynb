{
 "cells": [
  {
   "cell_type": "code",
   "execution_count": 1,
   "id": "6dfbbf72",
   "metadata": {},
   "outputs": [],
   "source": [
    "import numpy as np"
   ]
  },
  {
   "cell_type": "markdown",
   "id": "733fa7e8",
   "metadata": {},
   "source": [
    "### 1-D Array"
   ]
  },
  {
   "cell_type": "code",
   "execution_count": 2,
   "id": "836e8113",
   "metadata": {},
   "outputs": [],
   "source": [
    "n1 = np.array([10,20,30,40])"
   ]
  },
  {
   "cell_type": "code",
   "execution_count": 3,
   "id": "b968fa9c",
   "metadata": {},
   "outputs": [
    {
     "data": {
      "text/plain": [
       "array([10, 20, 30, 40])"
      ]
     },
     "execution_count": 3,
     "metadata": {},
     "output_type": "execute_result"
    }
   ],
   "source": [
    "n1"
   ]
  },
  {
   "cell_type": "markdown",
   "id": "67439b83",
   "metadata": {},
   "source": [
    "### 2-D Array"
   ]
  },
  {
   "cell_type": "code",
   "execution_count": 5,
   "id": "cef2e794",
   "metadata": {},
   "outputs": [
    {
     "data": {
      "text/plain": [
       "array([[10, 20, 30, 40],\n",
       "       [40, 30, 20, 10]])"
      ]
     },
     "execution_count": 5,
     "metadata": {},
     "output_type": "execute_result"
    }
   ],
   "source": [
    "n2 = np.array(([10,20,30,40],[40,30,20,10]))\n",
    "n2"
   ]
  },
  {
   "cell_type": "code",
   "execution_count": 6,
   "id": "24a3bd13",
   "metadata": {},
   "outputs": [
    {
     "data": {
      "text/plain": [
       "numpy.ndarray"
      ]
     },
     "execution_count": 6,
     "metadata": {},
     "output_type": "execute_result"
    }
   ],
   "source": [
    "type(n1)"
   ]
  },
  {
   "cell_type": "markdown",
   "id": "588a14ac",
   "metadata": {},
   "source": [
    "### Zero matrix"
   ]
  },
  {
   "cell_type": "code",
   "execution_count": 7,
   "id": "6e17ec1a",
   "metadata": {},
   "outputs": [
    {
     "data": {
      "text/plain": [
       "array([[0., 0.]])"
      ]
     },
     "execution_count": 7,
     "metadata": {},
     "output_type": "execute_result"
    }
   ],
   "source": [
    "n3 = np.zeros((1,2))\n",
    "n3"
   ]
  },
  {
   "cell_type": "code",
   "execution_count": 8,
   "id": "37e6bc2f",
   "metadata": {},
   "outputs": [
    {
     "data": {
      "text/plain": [
       "array([[0., 0., 0., 0., 0.],\n",
       "       [0., 0., 0., 0., 0.],\n",
       "       [0., 0., 0., 0., 0.],\n",
       "       [0., 0., 0., 0., 0.],\n",
       "       [0., 0., 0., 0., 0.]])"
      ]
     },
     "execution_count": 8,
     "metadata": {},
     "output_type": "execute_result"
    }
   ],
   "source": [
    "n4 = np.zeros((5,5))\n",
    "n4"
   ]
  },
  {
   "cell_type": "markdown",
   "id": "c43ff21b",
   "metadata": {},
   "source": [
    "### np.full"
   ]
  },
  {
   "cell_type": "code",
   "execution_count": 9,
   "id": "a2ccb022",
   "metadata": {},
   "outputs": [
    {
     "data": {
      "text/plain": [
       "array([[10, 10],\n",
       "       [10, 10]])"
      ]
     },
     "execution_count": 9,
     "metadata": {},
     "output_type": "execute_result"
    }
   ],
   "source": [
    "n5 = np.full((2,2),(10))\n",
    "n5"
   ]
  },
  {
   "cell_type": "markdown",
   "id": "8067ff7b",
   "metadata": {},
   "source": [
    "### array with range"
   ]
  },
  {
   "cell_type": "code",
   "execution_count": 11,
   "id": "3993e9ac",
   "metadata": {},
   "outputs": [
    {
     "data": {
      "text/plain": [
       "array([100, 101, 102, 103, 104, 105, 106, 107, 108, 109, 110, 111, 112,\n",
       "       113, 114, 115, 116, 117, 118, 119, 120, 121, 122, 123, 124, 125,\n",
       "       126, 127, 128, 129, 130, 131, 132, 133, 134, 135, 136, 137, 138,\n",
       "       139, 140, 141, 142, 143, 144, 145, 146, 147, 148, 149, 150, 151,\n",
       "       152, 153, 154, 155, 156, 157, 158, 159, 160, 161, 162, 163, 164,\n",
       "       165, 166, 167, 168, 169, 170, 171, 172, 173, 174, 175, 176, 177,\n",
       "       178, 179, 180, 181, 182, 183, 184, 185, 186, 187, 188, 189, 190,\n",
       "       191, 192, 193, 194, 195, 196, 197, 198, 199])"
      ]
     },
     "execution_count": 11,
     "metadata": {},
     "output_type": "execute_result"
    }
   ],
   "source": [
    "n6 = np.arange(100,200)\n",
    "n6"
   ]
  },
  {
   "cell_type": "code",
   "execution_count": 12,
   "id": "3576ad64",
   "metadata": {},
   "outputs": [
    {
     "data": {
      "text/plain": [
       "array([100, 101, 102, 103, 104, 105, 106, 107, 108, 109, 110, 111, 112,\n",
       "       113, 114, 115, 116, 117, 118, 119, 120, 121, 122, 123, 124, 125,\n",
       "       126, 127, 128, 129, 130, 131, 132, 133, 134, 135, 136, 137, 138,\n",
       "       139, 140, 141, 142, 143, 144, 145, 146, 147, 148, 149, 150, 151,\n",
       "       152, 153, 154, 155, 156, 157, 158, 159, 160, 161, 162, 163, 164,\n",
       "       165, 166, 167, 168, 169, 170, 171, 172, 173, 174, 175, 176, 177,\n",
       "       178, 179, 180, 181, 182, 183, 184, 185, 186, 187, 188, 189, 190,\n",
       "       191, 192, 193, 194, 195, 196, 197, 198, 199, 200])"
      ]
     },
     "execution_count": 12,
     "metadata": {},
     "output_type": "execute_result"
    }
   ],
   "source": [
    "n7 = np.arange(100,201)\n",
    "n7"
   ]
  },
  {
   "cell_type": "markdown",
   "id": "7777bf38",
   "metadata": {},
   "source": [
    "### range of values with step function with '10' diff from 100 to 200"
   ]
  },
  {
   "cell_type": "code",
   "execution_count": 13,
   "id": "949057d1",
   "metadata": {},
   "outputs": [],
   "source": [
    "n8 = np.arange(100,200,10)"
   ]
  },
  {
   "cell_type": "code",
   "execution_count": 14,
   "id": "c6b8291e",
   "metadata": {},
   "outputs": [
    {
     "data": {
      "text/plain": [
       "array([100, 110, 120, 130, 140, 150, 160, 170, 180, 190])"
      ]
     },
     "execution_count": 14,
     "metadata": {},
     "output_type": "execute_result"
    }
   ],
   "source": [
    "n8"
   ]
  },
  {
   "cell_type": "markdown",
   "id": "825838d8",
   "metadata": {},
   "source": [
    "### Random numbers from 1 to 100 with step 5"
   ]
  },
  {
   "cell_type": "code",
   "execution_count": 15,
   "id": "5021dc78",
   "metadata": {},
   "outputs": [
    {
     "data": {
      "text/plain": [
       "array([41, 98, 11, 96, 35])"
      ]
     },
     "execution_count": 15,
     "metadata": {},
     "output_type": "execute_result"
    }
   ],
   "source": [
    "n9 = np.random.randint(1,100,5)\n",
    "n9"
   ]
  },
  {
   "cell_type": "markdown",
   "id": "79146b37",
   "metadata": {},
   "source": [
    "### change dimension of matrix"
   ]
  },
  {
   "cell_type": "code",
   "execution_count": 16,
   "id": "fa4408a0",
   "metadata": {},
   "outputs": [
    {
     "data": {
      "text/plain": [
       "array([[10, 20, 30],\n",
       "       [40, 50, 60]])"
      ]
     },
     "execution_count": 16,
     "metadata": {},
     "output_type": "execute_result"
    }
   ],
   "source": [
    "n10 = np.array([[10,20,30],[40,50,60]])\n",
    "n10"
   ]
  },
  {
   "cell_type": "code",
   "execution_count": 17,
   "id": "823011c3",
   "metadata": {},
   "outputs": [
    {
     "data": {
      "text/plain": [
       "(2, 3)"
      ]
     },
     "execution_count": 17,
     "metadata": {},
     "output_type": "execute_result"
    }
   ],
   "source": [
    "n10.shape"
   ]
  },
  {
   "cell_type": "code",
   "execution_count": 18,
   "id": "f6ad9799",
   "metadata": {
    "scrolled": true
   },
   "outputs": [
    {
     "data": {
      "text/plain": [
       "array([[10, 20],\n",
       "       [30, 40],\n",
       "       [50, 60]])"
      ]
     },
     "execution_count": 18,
     "metadata": {},
     "output_type": "execute_result"
    }
   ],
   "source": [
    "n10.shape = (3,2)\n",
    "n10"
   ]
  },
  {
   "cell_type": "markdown",
   "id": "e7852c5f",
   "metadata": {},
   "source": [
    "### STACK"
   ]
  },
  {
   "cell_type": "code",
   "execution_count": 19,
   "id": "49b0140e",
   "metadata": {},
   "outputs": [],
   "source": [
    "# vstack()"
   ]
  },
  {
   "cell_type": "code",
   "execution_count": 21,
   "id": "3efaa59d",
   "metadata": {},
   "outputs": [],
   "source": [
    "n11 = np.array([10,20,30])\n",
    "n12 = np.array([40,50,60])"
   ]
  },
  {
   "cell_type": "code",
   "execution_count": 24,
   "id": "69b7434c",
   "metadata": {},
   "outputs": [
    {
     "data": {
      "text/plain": [
       "array([[40, 50, 60],\n",
       "       [10, 20, 30]])"
      ]
     },
     "execution_count": 24,
     "metadata": {},
     "output_type": "execute_result"
    }
   ],
   "source": [
    "np.vstack((n12,n11))"
   ]
  },
  {
   "cell_type": "code",
   "execution_count": 25,
   "id": "ea9884ef",
   "metadata": {},
   "outputs": [],
   "source": [
    "#hstack()"
   ]
  },
  {
   "cell_type": "code",
   "execution_count": 27,
   "id": "f08b845d",
   "metadata": {},
   "outputs": [
    {
     "data": {
      "text/plain": [
       "array([40, 50, 60, 10, 20, 30])"
      ]
     },
     "execution_count": 27,
     "metadata": {},
     "output_type": "execute_result"
    }
   ],
   "source": [
    "np.hstack((n12,n11))"
   ]
  },
  {
   "cell_type": "code",
   "execution_count": 28,
   "id": "e0be67f1",
   "metadata": {},
   "outputs": [],
   "source": [
    "#column_stack()"
   ]
  },
  {
   "cell_type": "code",
   "execution_count": 29,
   "id": "62845278",
   "metadata": {},
   "outputs": [
    {
     "data": {
      "text/plain": [
       "array([[40, 10],\n",
       "       [50, 20],\n",
       "       [60, 30]])"
      ]
     },
     "execution_count": 29,
     "metadata": {},
     "output_type": "execute_result"
    }
   ],
   "source": [
    "np.column_stack((n12,n11))"
   ]
  },
  {
   "cell_type": "markdown",
   "id": "781263a1",
   "metadata": {},
   "source": [
    "### intersection and difference method"
   ]
  },
  {
   "cell_type": "code",
   "execution_count": 30,
   "id": "b623ff63",
   "metadata": {},
   "outputs": [],
   "source": [
    "n13 = np.array([10,20,30,40,50,60])\n",
    "n14 = np.array([50,60,70,80,90])"
   ]
  },
  {
   "cell_type": "code",
   "execution_count": 31,
   "id": "a6838d1e",
   "metadata": {},
   "outputs": [
    {
     "data": {
      "text/plain": [
       "array([50, 60])"
      ]
     },
     "execution_count": 31,
     "metadata": {},
     "output_type": "execute_result"
    }
   ],
   "source": [
    "np.intersect1d(n13,n14)"
   ]
  },
  {
   "cell_type": "code",
   "execution_count": 32,
   "id": "a94ce36c",
   "metadata": {},
   "outputs": [
    {
     "data": {
      "text/plain": [
       "array([10, 20, 30, 40])"
      ]
     },
     "execution_count": 32,
     "metadata": {},
     "output_type": "execute_result"
    }
   ],
   "source": [
    "np.setdiff1d(n13,n14)"
   ]
  },
  {
   "cell_type": "code",
   "execution_count": 33,
   "id": "66a61713",
   "metadata": {},
   "outputs": [
    {
     "data": {
      "text/plain": [
       "array([70, 80, 90])"
      ]
     },
     "execution_count": 33,
     "metadata": {},
     "output_type": "execute_result"
    }
   ],
   "source": [
    "np.setdiff1d(n14,n13)"
   ]
  },
  {
   "cell_type": "markdown",
   "id": "bcfc01e4",
   "metadata": {},
   "source": [
    "### Addition "
   ]
  },
  {
   "cell_type": "code",
   "execution_count": 34,
   "id": "2f17dab6",
   "metadata": {},
   "outputs": [],
   "source": [
    "n15 = np.array([10,20])\n",
    "n16 = np.array([30,40])"
   ]
  },
  {
   "cell_type": "code",
   "execution_count": 36,
   "id": "83aaf7df",
   "metadata": {},
   "outputs": [
    {
     "data": {
      "text/plain": [
       "100"
      ]
     },
     "execution_count": 36,
     "metadata": {},
     "output_type": "execute_result"
    }
   ],
   "source": [
    "np.sum([n15,n16])"
   ]
  },
  {
   "cell_type": "code",
   "execution_count": 37,
   "id": "f6798ba5",
   "metadata": {},
   "outputs": [
    {
     "data": {
      "text/plain": [
       "array([40, 60])"
      ]
     },
     "execution_count": 37,
     "metadata": {},
     "output_type": "execute_result"
    }
   ],
   "source": [
    "np.sum([n15,n16], axis=0)"
   ]
  },
  {
   "cell_type": "code",
   "execution_count": 38,
   "id": "99cf37e9",
   "metadata": {},
   "outputs": [
    {
     "data": {
      "text/plain": [
       "array([30, 70])"
      ]
     },
     "execution_count": 38,
     "metadata": {},
     "output_type": "execute_result"
    }
   ],
   "source": [
    "np.sum([n15,n16], axis =1)"
   ]
  },
  {
   "cell_type": "markdown",
   "id": "696da6a1",
   "metadata": {},
   "source": [
    "### multiplication"
   ]
  },
  {
   "cell_type": "code",
   "execution_count": 40,
   "id": "aa0366cf",
   "metadata": {},
   "outputs": [
    {
     "data": {
      "text/plain": [
       "array([20, 40, 60])"
      ]
     },
     "execution_count": 40,
     "metadata": {},
     "output_type": "execute_result"
    }
   ],
   "source": [
    "n17 = np.array([10,20,30])\n",
    "n17 = n17 * 2\n",
    "n17"
   ]
  },
  {
   "cell_type": "markdown",
   "id": "9a17911a",
   "metadata": {},
   "source": [
    "### Subtraction"
   ]
  },
  {
   "cell_type": "code",
   "execution_count": 42,
   "id": "574e6343",
   "metadata": {},
   "outputs": [
    {
     "data": {
      "text/plain": [
       "array([ 9, 19, 29])"
      ]
     },
     "execution_count": 42,
     "metadata": {},
     "output_type": "execute_result"
    }
   ],
   "source": [
    "n18 = np.array([10,20,30])\n",
    "n18 = n18 - 1\n",
    "n18"
   ]
  },
  {
   "cell_type": "markdown",
   "id": "4c7be9b0",
   "metadata": {},
   "source": [
    "### Divide"
   ]
  },
  {
   "cell_type": "code",
   "execution_count": 43,
   "id": "9c77ece9",
   "metadata": {},
   "outputs": [
    {
     "data": {
      "text/plain": [
       "array([ 5., 10., 15.])"
      ]
     },
     "execution_count": 43,
     "metadata": {},
     "output_type": "execute_result"
    }
   ],
   "source": [
    "n19 = np.array([10,20,30])\n",
    "n19 = n19 / 2\n",
    "n19"
   ]
  },
  {
   "cell_type": "markdown",
   "id": "d2f4a079",
   "metadata": {},
   "source": [
    "### Mean"
   ]
  },
  {
   "cell_type": "code",
   "execution_count": 44,
   "id": "99792809",
   "metadata": {},
   "outputs": [
    {
     "data": {
      "text/plain": [
       "35.0"
      ]
     },
     "execution_count": 44,
     "metadata": {},
     "output_type": "execute_result"
    }
   ],
   "source": [
    "n20 = np.array([10,20,30,40,50,60])\n",
    "np.mean(n20)"
   ]
  },
  {
   "cell_type": "markdown",
   "id": "f6052bbe",
   "metadata": {},
   "source": [
    "### Median"
   ]
  },
  {
   "cell_type": "code",
   "execution_count": 45,
   "id": "e7f466f0",
   "metadata": {},
   "outputs": [
    {
     "data": {
      "text/plain": [
       "5.0"
      ]
     },
     "execution_count": 45,
     "metadata": {},
     "output_type": "execute_result"
    }
   ],
   "source": [
    "n21 = np.array([5,2,8,9,7,2,1])\n",
    "np.median(n21)"
   ]
  },
  {
   "cell_type": "markdown",
   "id": "93b58244",
   "metadata": {},
   "source": [
    "### Standard Deviation"
   ]
  },
  {
   "cell_type": "code",
   "execution_count": 46,
   "id": "9d19238c",
   "metadata": {},
   "outputs": [
    {
     "data": {
      "text/plain": [
       "2.996596709057576"
      ]
     },
     "execution_count": 46,
     "metadata": {},
     "output_type": "execute_result"
    }
   ],
   "source": [
    "np.std(n21)"
   ]
  },
  {
   "cell_type": "markdown",
   "id": "6f76c3b4",
   "metadata": {},
   "source": [
    "### Matrix"
   ]
  },
  {
   "cell_type": "code",
   "execution_count": 47,
   "id": "debe6cb3",
   "metadata": {},
   "outputs": [],
   "source": [
    "n22 = np.array([[1,2,3],[4,5,6],[7,8,9]])"
   ]
  },
  {
   "cell_type": "code",
   "execution_count": 48,
   "id": "67f985ba",
   "metadata": {},
   "outputs": [
    {
     "data": {
      "text/plain": [
       "array([[1, 2, 3],\n",
       "       [4, 5, 6],\n",
       "       [7, 8, 9]])"
      ]
     },
     "execution_count": 48,
     "metadata": {},
     "output_type": "execute_result"
    }
   ],
   "source": [
    "n22"
   ]
  },
  {
   "cell_type": "code",
   "execution_count": 49,
   "id": "c2c91e26",
   "metadata": {},
   "outputs": [
    {
     "data": {
      "text/plain": [
       "array([7, 8, 9])"
      ]
     },
     "execution_count": 49,
     "metadata": {},
     "output_type": "execute_result"
    }
   ],
   "source": [
    "n22[2]"
   ]
  },
  {
   "cell_type": "code",
   "execution_count": 50,
   "id": "51553fae",
   "metadata": {},
   "outputs": [
    {
     "data": {
      "text/plain": [
       "array([3, 6, 9])"
      ]
     },
     "execution_count": 50,
     "metadata": {},
     "output_type": "execute_result"
    }
   ],
   "source": [
    "n22[:,2]"
   ]
  },
  {
   "cell_type": "markdown",
   "id": "096332a0",
   "metadata": {},
   "source": [
    "### Transpose"
   ]
  },
  {
   "cell_type": "code",
   "execution_count": 51,
   "id": "dd4c1acd",
   "metadata": {},
   "outputs": [
    {
     "data": {
      "text/plain": [
       "array([[1, 4, 7],\n",
       "       [2, 5, 8],\n",
       "       [3, 6, 9]])"
      ]
     },
     "execution_count": 51,
     "metadata": {},
     "output_type": "execute_result"
    }
   ],
   "source": [
    "np.transpose(n22)"
   ]
  },
  {
   "cell_type": "markdown",
   "id": "ca863560",
   "metadata": {},
   "source": [
    "### Matrix Multiplication"
   ]
  },
  {
   "cell_type": "code",
   "execution_count": 53,
   "id": "523c193f",
   "metadata": {},
   "outputs": [
    {
     "data": {
      "text/plain": [
       "array([[1, 2, 3],\n",
       "       [4, 5, 6],\n",
       "       [7, 8, 9]])"
      ]
     },
     "execution_count": 53,
     "metadata": {},
     "output_type": "execute_result"
    }
   ],
   "source": [
    "n23 = np.array([[1,2,3],[4,5,6],[7,8,9]])\n",
    "n24 = np.array([[3,2,1],[6,5,4],[9,8,7]])\n",
    "\n",
    "n23"
   ]
  },
  {
   "cell_type": "code",
   "execution_count": 55,
   "id": "9d8f1ead",
   "metadata": {},
   "outputs": [
    {
     "data": {
      "text/plain": [
       "array([[ 42,  36,  30],\n",
       "       [ 96,  81,  66],\n",
       "       [150, 126, 102]])"
      ]
     },
     "execution_count": 55,
     "metadata": {},
     "output_type": "execute_result"
    }
   ],
   "source": [
    "n23.dot(n24)"
   ]
  },
  {
   "cell_type": "code",
   "execution_count": 56,
   "id": "1d7c964d",
   "metadata": {},
   "outputs": [
    {
     "data": {
      "text/plain": [
       "array([[3, 2, 1],\n",
       "       [6, 5, 4],\n",
       "       [9, 8, 7]])"
      ]
     },
     "execution_count": 56,
     "metadata": {},
     "output_type": "execute_result"
    }
   ],
   "source": [
    "n24"
   ]
  },
  {
   "cell_type": "code",
   "execution_count": 57,
   "id": "25fefc4d",
   "metadata": {},
   "outputs": [
    {
     "data": {
      "text/plain": [
       "array([[ 18,  24,  30],\n",
       "       [ 54,  69,  84],\n",
       "       [ 90, 114, 138]])"
      ]
     },
     "execution_count": 57,
     "metadata": {},
     "output_type": "execute_result"
    }
   ],
   "source": [
    "n24.dot(n23)"
   ]
  },
  {
   "cell_type": "markdown",
   "id": "85c85b27",
   "metadata": {},
   "source": [
    "### NumPy Save & Load"
   ]
  },
  {
   "cell_type": "code",
   "execution_count": 58,
   "id": "ca542232",
   "metadata": {},
   "outputs": [],
   "source": [
    "np.save('save_n23',n23)"
   ]
  },
  {
   "cell_type": "code",
   "execution_count": 59,
   "id": "93f7c421",
   "metadata": {},
   "outputs": [],
   "source": [
    "n25 = np.load('save_n23.npy')"
   ]
  },
  {
   "cell_type": "code",
   "execution_count": 60,
   "id": "7f7fa03b",
   "metadata": {},
   "outputs": [
    {
     "data": {
      "text/plain": [
       "array([[1, 2, 3],\n",
       "       [4, 5, 6],\n",
       "       [7, 8, 9]])"
      ]
     },
     "execution_count": 60,
     "metadata": {},
     "output_type": "execute_result"
    }
   ],
   "source": [
    "n25"
   ]
  }
 ],
 "metadata": {
  "kernelspec": {
   "display_name": "Python 3 (ipykernel)",
   "language": "python",
   "name": "python3"
  },
  "language_info": {
   "codemirror_mode": {
    "name": "ipython",
    "version": 3
   },
   "file_extension": ".py",
   "mimetype": "text/x-python",
   "name": "python",
   "nbconvert_exporter": "python",
   "pygments_lexer": "ipython3",
   "version": "3.9.7"
  }
 },
 "nbformat": 4,
 "nbformat_minor": 5
}
